{
 "cells": [
  {
   "cell_type": "markdown",
   "id": "b3bc466f-0c08-4fc0-a7a7-8c88aaa1ea33",
   "metadata": {},
   "source": [
    "# Chapter 1 - Data Science Projects with Python\n",
    "\n",
    "---\n",
    "This is the first chapter of the book data science project and it seems to be following the traditional method of using a notebook for doing everything which is frustrating. \n"
   ]
  },
  {
   "cell_type": "code",
   "execution_count": 1,
   "id": "f2345203-56bf-4df3-9455-6344a52c4e0b",
   "metadata": {},
   "outputs": [],
   "source": [
    "# basic imports\n",
    "import os \n",
    "import sys\n",
    "import pandas as pd\n",
    "import numpy as np"
   ]
  },
  {
   "cell_type": "code",
   "execution_count": 2,
   "id": "0a49a2a6-fbdd-4333-b744-02ce6247c2f0",
   "metadata": {},
   "outputs": [],
   "source": [
    "configs = os.path.abspath('../')\n",
    "if configs not in sys.path:\n",
    "    sys.path.insert(0,configs)\n",
    "\n",
    "#from utils.utilities import display"
   ]
  },
  {
   "cell_type": "code",
   "execution_count": 3,
   "id": "719412b9-c2b7-4193-88cf-90fef1d9f9c6",
   "metadata": {},
   "outputs": [],
   "source": [
    "from utils.utilities import display"
   ]
  },
  {
   "cell_type": "markdown",
   "id": "45352c36-2ed8-40ad-9fac-f6e221fe4cf6",
   "metadata": {},
   "source": [
    "## 1. Data Explorations steps to follow:\n",
    "***\n",
    "> 1. What is the shape of the data\n",
    "  >> - number of rows and columns\n",
    "> 2. Are there any missing values\n",
    "> 3. Are there any duplicates per row\n",
    "> 4. What are the column type - is this what is expected\n",
    "---"
   ]
  },
  {
   "cell_type": "code",
   "execution_count": 4,
   "id": "a817222e-5718-4359-83a9-ed37ccbdf733",
   "metadata": {},
   "outputs": [],
   "source": [
    "df = pd.read_excel('../data/raw/default_of_credit_card_clients__courseware_version_1_21_19.xls')"
   ]
  },
  {
   "cell_type": "markdown",
   "id": "a2d82e35-523e-49ac-b1aa-0d14c37d649a",
   "metadata": {},
   "source": [
    "1. `Rows` and `columns` view"
   ]
  },
  {
   "cell_type": "code",
   "execution_count": 5,
   "id": "6c51e44b-1ccb-44c6-8df5-6951016db0e4",
   "metadata": {},
   "outputs": [
    {
     "name": "stdout",
     "output_type": "stream",
     "text": [
      "Rows = 30,000 \n",
      "cols = 25, \n",
      "fullshape = (30000, 25) \n"
     ]
    }
   ],
   "source": [
    "print(f'Rows = {df.shape[0]:,.0f} \\ncols = {df.shape[1]}, \\nfullshape = {df.shape} ')"
   ]
  },
  {
   "cell_type": "markdown",
   "id": "c10b831a-bc1b-4f58-8a6e-69603973eacf",
   "metadata": {},
   "source": [
    "#### a. **Missing** data "
   ]
  },
  {
   "cell_type": "code",
   "execution_count": 6,
   "id": "e1cac846-f7ee-4c9a-a6fc-228bfdb55da7",
   "metadata": {},
   "outputs": [
    {
     "data": {
      "text/plain": [
       "ID                            False\n",
       "LIMIT_BAL                     False\n",
       "SEX                           False\n",
       "EDUCATION                     False\n",
       "MARRIAGE                      False\n",
       "AGE                           False\n",
       "PAY_1                         False\n",
       "PAY_2                         False\n",
       "PAY_3                         False\n",
       "PAY_4                         False\n",
       "PAY_5                         False\n",
       "PAY_6                         False\n",
       "BILL_AMT1                     False\n",
       "BILL_AMT2                     False\n",
       "BILL_AMT3                     False\n",
       "BILL_AMT4                     False\n",
       "BILL_AMT5                     False\n",
       "BILL_AMT6                     False\n",
       "PAY_AMT1                      False\n",
       "PAY_AMT2                      False\n",
       "PAY_AMT3                      False\n",
       "PAY_AMT4                      False\n",
       "PAY_AMT5                      False\n",
       "PAY_AMT6                      False\n",
       "default payment next month    False\n",
       "dtype: bool"
      ]
     },
     "execution_count": 6,
     "metadata": {},
     "output_type": "execute_result"
    }
   ],
   "source": [
    "df.isnull().any()"
   ]
  },
  {
   "cell_type": "markdown",
   "id": "692da031-db22-4769-9bb3-fb7d28271268",
   "metadata": {},
   "source": [
    "#### b. checking **_duplicates_**"
   ]
  },
  {
   "cell_type": "code",
   "execution_count": 7,
   "id": "252d733f-0e8d-40cf-881c-7a0ee3c49621",
   "metadata": {},
   "outputs": [
    {
     "data": {
      "text/plain": [
       "0"
      ]
     },
     "execution_count": 7,
     "metadata": {},
     "output_type": "execute_result"
    }
   ],
   "source": [
    "df.duplicated().sum()"
   ]
  },
  {
   "cell_type": "markdown",
   "id": "014d1c05-8d14-4cc5-bb1c-5b88af2985f3",
   "metadata": {},
   "source": [
    "#### c. Checking ```Datatypes``` ,`head` and `tail`"
   ]
  },
  {
   "cell_type": "code",
   "execution_count": 8,
   "id": "7c7c82a0-6566-4c25-ae97-5947077c86d2",
   "metadata": {},
   "outputs": [
    {
     "data": {
      "text/plain": [
       "int64     23\n",
       "object     2\n",
       "Name: count, dtype: int64"
      ]
     },
     "execution_count": 8,
     "metadata": {},
     "output_type": "execute_result"
    }
   ],
   "source": [
    "df.dtypes.value_counts()"
   ]
  },
  {
   "cell_type": "code",
   "execution_count": 9,
   "id": "c1f58cfd-9967-4150-9366-7477eed3b4ff",
   "metadata": {},
   "outputs": [
    {
     "name": "stdout",
     "output_type": "stream",
     "text": [
      "<class 'pandas.core.frame.DataFrame'>\n",
      "RangeIndex: 30000 entries, 0 to 29999\n",
      "Data columns (total 25 columns):\n",
      " #   Column                      Non-Null Count  Dtype \n",
      "---  ------                      --------------  ----- \n",
      " 0   ID                          30000 non-null  object\n",
      " 1   LIMIT_BAL                   30000 non-null  int64 \n",
      " 2   SEX                         30000 non-null  int64 \n",
      " 3   EDUCATION                   30000 non-null  int64 \n",
      " 4   MARRIAGE                    30000 non-null  int64 \n",
      " 5   AGE                         30000 non-null  int64 \n",
      " 6   PAY_1                       30000 non-null  object\n",
      " 7   PAY_2                       30000 non-null  int64 \n",
      " 8   PAY_3                       30000 non-null  int64 \n",
      " 9   PAY_4                       30000 non-null  int64 \n",
      " 10  PAY_5                       30000 non-null  int64 \n",
      " 11  PAY_6                       30000 non-null  int64 \n",
      " 12  BILL_AMT1                   30000 non-null  int64 \n",
      " 13  BILL_AMT2                   30000 non-null  int64 \n",
      " 14  BILL_AMT3                   30000 non-null  int64 \n",
      " 15  BILL_AMT4                   30000 non-null  int64 \n",
      " 16  BILL_AMT5                   30000 non-null  int64 \n",
      " 17  BILL_AMT6                   30000 non-null  int64 \n",
      " 18  PAY_AMT1                    30000 non-null  int64 \n",
      " 19  PAY_AMT2                    30000 non-null  int64 \n",
      " 20  PAY_AMT3                    30000 non-null  int64 \n",
      " 21  PAY_AMT4                    30000 non-null  int64 \n",
      " 22  PAY_AMT5                    30000 non-null  int64 \n",
      " 23  PAY_AMT6                    30000 non-null  int64 \n",
      " 24  default payment next month  30000 non-null  int64 \n",
      "dtypes: int64(23), object(2)\n",
      "memory usage: 5.7+ MB\n"
     ]
    }
   ],
   "source": [
    "df.info()"
   ]
  },
  {
   "cell_type": "code",
   "execution_count": 10,
   "id": "295ab9fd-a173-4217-8875-17697d816c7d",
   "metadata": {},
   "outputs": [
    {
     "data": {
      "text/html": [
       "<div>\n",
       "<style scoped>\n",
       "    .dataframe tbody tr th:only-of-type {\n",
       "        vertical-align: middle;\n",
       "    }\n",
       "\n",
       "    .dataframe tbody tr th {\n",
       "        vertical-align: top;\n",
       "    }\n",
       "\n",
       "    .dataframe thead th {\n",
       "        text-align: right;\n",
       "    }\n",
       "</style>\n",
       "<table border=\"1\" class=\"dataframe\">\n",
       "  <thead>\n",
       "    <tr style=\"text-align: right;\">\n",
       "      <th></th>\n",
       "      <th>ID</th>\n",
       "      <th>LIMIT_BAL</th>\n",
       "      <th>SEX</th>\n",
       "      <th>EDUCATION</th>\n",
       "      <th>MARRIAGE</th>\n",
       "      <th>AGE</th>\n",
       "      <th>PAY_1</th>\n",
       "      <th>PAY_2</th>\n",
       "      <th>PAY_3</th>\n",
       "      <th>PAY_4</th>\n",
       "      <th>...</th>\n",
       "      <th>BILL_AMT4</th>\n",
       "      <th>BILL_AMT5</th>\n",
       "      <th>BILL_AMT6</th>\n",
       "      <th>PAY_AMT1</th>\n",
       "      <th>PAY_AMT2</th>\n",
       "      <th>PAY_AMT3</th>\n",
       "      <th>PAY_AMT4</th>\n",
       "      <th>PAY_AMT5</th>\n",
       "      <th>PAY_AMT6</th>\n",
       "      <th>default payment next month</th>\n",
       "    </tr>\n",
       "  </thead>\n",
       "  <tbody>\n",
       "    <tr>\n",
       "      <th>0</th>\n",
       "      <td>798fc410-45c1</td>\n",
       "      <td>20000</td>\n",
       "      <td>2</td>\n",
       "      <td>2</td>\n",
       "      <td>1</td>\n",
       "      <td>24</td>\n",
       "      <td>2</td>\n",
       "      <td>2</td>\n",
       "      <td>-1</td>\n",
       "      <td>-1</td>\n",
       "      <td>...</td>\n",
       "      <td>0</td>\n",
       "      <td>0</td>\n",
       "      <td>0</td>\n",
       "      <td>0</td>\n",
       "      <td>689</td>\n",
       "      <td>0</td>\n",
       "      <td>0</td>\n",
       "      <td>0</td>\n",
       "      <td>0</td>\n",
       "      <td>1</td>\n",
       "    </tr>\n",
       "    <tr>\n",
       "      <th>1</th>\n",
       "      <td>8a8c8f3b-8eb4</td>\n",
       "      <td>120000</td>\n",
       "      <td>2</td>\n",
       "      <td>2</td>\n",
       "      <td>2</td>\n",
       "      <td>26</td>\n",
       "      <td>-1</td>\n",
       "      <td>2</td>\n",
       "      <td>0</td>\n",
       "      <td>0</td>\n",
       "      <td>...</td>\n",
       "      <td>3272</td>\n",
       "      <td>3455</td>\n",
       "      <td>3261</td>\n",
       "      <td>0</td>\n",
       "      <td>1000</td>\n",
       "      <td>1000</td>\n",
       "      <td>1000</td>\n",
       "      <td>0</td>\n",
       "      <td>2000</td>\n",
       "      <td>1</td>\n",
       "    </tr>\n",
       "  </tbody>\n",
       "</table>\n",
       "<p>2 rows × 25 columns</p>\n",
       "</div>"
      ],
      "text/plain": [
       "              ID  LIMIT_BAL  SEX  EDUCATION  MARRIAGE  AGE PAY_1  PAY_2  \\\n",
       "0  798fc410-45c1      20000    2          2         1   24     2      2   \n",
       "1  8a8c8f3b-8eb4     120000    2          2         2   26    -1      2   \n",
       "\n",
       "   PAY_3  PAY_4  ...  BILL_AMT4  BILL_AMT5  BILL_AMT6  PAY_AMT1  PAY_AMT2  \\\n",
       "0     -1     -1  ...          0          0          0         0       689   \n",
       "1      0      0  ...       3272       3455       3261         0      1000   \n",
       "\n",
       "   PAY_AMT3  PAY_AMT4  PAY_AMT5  PAY_AMT6  default payment next month  \n",
       "0         0         0         0         0                           1  \n",
       "1      1000      1000         0      2000                           1  \n",
       "\n",
       "[2 rows x 25 columns]"
      ]
     },
     "execution_count": 10,
     "metadata": {},
     "output_type": "execute_result"
    }
   ],
   "source": [
    "df.head(2)"
   ]
  },
  {
   "cell_type": "code",
   "execution_count": 11,
   "id": "2d5b8743-7676-44e4-8c48-9ed6d8db1019",
   "metadata": {},
   "outputs": [
    {
     "data": {
      "text/html": [
       "<div>\n",
       "<style scoped>\n",
       "    .dataframe tbody tr th:only-of-type {\n",
       "        vertical-align: middle;\n",
       "    }\n",
       "\n",
       "    .dataframe tbody tr th {\n",
       "        vertical-align: top;\n",
       "    }\n",
       "\n",
       "    .dataframe thead th {\n",
       "        text-align: right;\n",
       "    }\n",
       "</style>\n",
       "<table border=\"1\" class=\"dataframe\">\n",
       "  <thead>\n",
       "    <tr style=\"text-align: right;\">\n",
       "      <th></th>\n",
       "      <th>ID</th>\n",
       "      <th>LIMIT_BAL</th>\n",
       "      <th>SEX</th>\n",
       "      <th>EDUCATION</th>\n",
       "      <th>MARRIAGE</th>\n",
       "      <th>AGE</th>\n",
       "      <th>PAY_1</th>\n",
       "      <th>PAY_2</th>\n",
       "      <th>PAY_3</th>\n",
       "      <th>PAY_4</th>\n",
       "      <th>...</th>\n",
       "      <th>BILL_AMT4</th>\n",
       "      <th>BILL_AMT5</th>\n",
       "      <th>BILL_AMT6</th>\n",
       "      <th>PAY_AMT1</th>\n",
       "      <th>PAY_AMT2</th>\n",
       "      <th>PAY_AMT3</th>\n",
       "      <th>PAY_AMT4</th>\n",
       "      <th>PAY_AMT5</th>\n",
       "      <th>PAY_AMT6</th>\n",
       "      <th>default payment next month</th>\n",
       "    </tr>\n",
       "  </thead>\n",
       "  <tbody>\n",
       "    <tr>\n",
       "      <th>29998</th>\n",
       "      <td>00d03f02-04cd</td>\n",
       "      <td>80000</td>\n",
       "      <td>1</td>\n",
       "      <td>3</td>\n",
       "      <td>1</td>\n",
       "      <td>41</td>\n",
       "      <td>1</td>\n",
       "      <td>-1</td>\n",
       "      <td>0</td>\n",
       "      <td>0</td>\n",
       "      <td>...</td>\n",
       "      <td>52774</td>\n",
       "      <td>11855</td>\n",
       "      <td>48944</td>\n",
       "      <td>85900</td>\n",
       "      <td>3409</td>\n",
       "      <td>1178</td>\n",
       "      <td>1926</td>\n",
       "      <td>52964</td>\n",
       "      <td>1804</td>\n",
       "      <td>1</td>\n",
       "    </tr>\n",
       "    <tr>\n",
       "      <th>29999</th>\n",
       "      <td>15d69f9f-5ad3</td>\n",
       "      <td>50000</td>\n",
       "      <td>1</td>\n",
       "      <td>2</td>\n",
       "      <td>1</td>\n",
       "      <td>46</td>\n",
       "      <td>0</td>\n",
       "      <td>0</td>\n",
       "      <td>0</td>\n",
       "      <td>0</td>\n",
       "      <td>...</td>\n",
       "      <td>36535</td>\n",
       "      <td>32428</td>\n",
       "      <td>15313</td>\n",
       "      <td>2078</td>\n",
       "      <td>1800</td>\n",
       "      <td>1430</td>\n",
       "      <td>1000</td>\n",
       "      <td>1000</td>\n",
       "      <td>1000</td>\n",
       "      <td>1</td>\n",
       "    </tr>\n",
       "  </tbody>\n",
       "</table>\n",
       "<p>2 rows × 25 columns</p>\n",
       "</div>"
      ],
      "text/plain": [
       "                  ID  LIMIT_BAL  SEX  EDUCATION  MARRIAGE  AGE PAY_1  PAY_2  \\\n",
       "29998  00d03f02-04cd      80000    1          3         1   41     1     -1   \n",
       "29999  15d69f9f-5ad3      50000    1          2         1   46     0      0   \n",
       "\n",
       "       PAY_3  PAY_4  ...  BILL_AMT4  BILL_AMT5  BILL_AMT6  PAY_AMT1  PAY_AMT2  \\\n",
       "29998      0      0  ...      52774      11855      48944     85900      3409   \n",
       "29999      0      0  ...      36535      32428      15313      2078      1800   \n",
       "\n",
       "       PAY_AMT3  PAY_AMT4  PAY_AMT5  PAY_AMT6  default payment next month  \n",
       "29998      1178      1926     52964      1804                           1  \n",
       "29999      1430      1000      1000      1000                           1  \n",
       "\n",
       "[2 rows x 25 columns]"
      ]
     },
     "execution_count": 11,
     "metadata": {},
     "output_type": "execute_result"
    }
   ],
   "source": [
    "df.tail(2)"
   ]
  },
  {
   "cell_type": "code",
   "execution_count": 12,
   "id": "a6987a23-5eed-46bd-96ab-c4201a715968",
   "metadata": {},
   "outputs": [],
   "source": [
    "## view columns and unique customers"
   ]
  },
  {
   "cell_type": "markdown",
   "id": "d3cc2663-be37-4f88-9c55-622c7fbf57fb",
   "metadata": {},
   "source": [
    "#### D. See if we have all unique customers (specifically ID col) as expected"
   ]
  },
  {
   "cell_type": "code",
   "execution_count": 13,
   "id": "635a0431-7f87-4b7d-9bef-ae6593da003f",
   "metadata": {},
   "outputs": [
    {
     "data": {
      "text/plain": [
       "313"
      ]
     },
     "execution_count": 13,
     "metadata": {},
     "output_type": "execute_result"
    }
   ],
   "source": [
    "df['ID'].duplicated().sum()"
   ]
  },
  {
   "cell_type": "code",
   "execution_count": 14,
   "id": "de6b9dc5-fc7c-47eb-b4f7-925de9497f87",
   "metadata": {},
   "outputs": [
    {
     "data": {
      "text/plain": [
       "29687"
      ]
     },
     "execution_count": 14,
     "metadata": {},
     "output_type": "execute_result"
    }
   ],
   "source": [
    "df['ID'].nunique()"
   ]
  },
  {
   "cell_type": "code",
   "execution_count": 15,
   "id": "b1eeb73f-daf7-41b6-812f-490705a34828",
   "metadata": {},
   "outputs": [
    {
     "data": {
      "text/html": [
       "<div>\n",
       "<style scoped>\n",
       "    .dataframe tbody tr th:only-of-type {\n",
       "        vertical-align: middle;\n",
       "    }\n",
       "\n",
       "    .dataframe tbody tr th {\n",
       "        vertical-align: top;\n",
       "    }\n",
       "\n",
       "    .dataframe thead th {\n",
       "        text-align: right;\n",
       "    }\n",
       "</style>\n",
       "<table border=\"1\" class=\"dataframe\">\n",
       "  <thead>\n",
       "    <tr style=\"text-align: right;\">\n",
       "      <th></th>\n",
       "      <th>ID</th>\n",
       "      <th>LIMIT_BAL</th>\n",
       "      <th>SEX</th>\n",
       "      <th>EDUCATION</th>\n",
       "      <th>MARRIAGE</th>\n",
       "      <th>AGE</th>\n",
       "      <th>PAY_1</th>\n",
       "      <th>PAY_2</th>\n",
       "      <th>PAY_3</th>\n",
       "      <th>PAY_4</th>\n",
       "      <th>...</th>\n",
       "      <th>BILL_AMT4</th>\n",
       "      <th>BILL_AMT5</th>\n",
       "      <th>BILL_AMT6</th>\n",
       "      <th>PAY_AMT1</th>\n",
       "      <th>PAY_AMT2</th>\n",
       "      <th>PAY_AMT3</th>\n",
       "      <th>PAY_AMT4</th>\n",
       "      <th>PAY_AMT5</th>\n",
       "      <th>PAY_AMT6</th>\n",
       "      <th>default payment next month</th>\n",
       "    </tr>\n",
       "  </thead>\n",
       "  <tbody>\n",
       "    <tr>\n",
       "      <th>241</th>\n",
       "      <td>26bde6da-f148</td>\n",
       "      <td>0</td>\n",
       "      <td>0</td>\n",
       "      <td>0</td>\n",
       "      <td>0</td>\n",
       "      <td>0</td>\n",
       "      <td>0</td>\n",
       "      <td>0</td>\n",
       "      <td>0</td>\n",
       "      <td>0</td>\n",
       "      <td>...</td>\n",
       "      <td>0</td>\n",
       "      <td>0</td>\n",
       "      <td>0</td>\n",
       "      <td>0</td>\n",
       "      <td>0</td>\n",
       "      <td>0</td>\n",
       "      <td>0</td>\n",
       "      <td>0</td>\n",
       "      <td>0</td>\n",
       "      <td>0</td>\n",
       "    </tr>\n",
       "    <tr>\n",
       "      <th>296</th>\n",
       "      <td>42009c72-651f</td>\n",
       "      <td>0</td>\n",
       "      <td>0</td>\n",
       "      <td>0</td>\n",
       "      <td>0</td>\n",
       "      <td>0</td>\n",
       "      <td>0</td>\n",
       "      <td>0</td>\n",
       "      <td>0</td>\n",
       "      <td>0</td>\n",
       "      <td>...</td>\n",
       "      <td>0</td>\n",
       "      <td>0</td>\n",
       "      <td>0</td>\n",
       "      <td>0</td>\n",
       "      <td>0</td>\n",
       "      <td>0</td>\n",
       "      <td>0</td>\n",
       "      <td>0</td>\n",
       "      <td>0</td>\n",
       "      <td>0</td>\n",
       "    </tr>\n",
       "  </tbody>\n",
       "</table>\n",
       "<p>2 rows × 25 columns</p>\n",
       "</div>"
      ],
      "text/plain": [
       "                ID  LIMIT_BAL  SEX  EDUCATION  MARRIAGE  AGE PAY_1  PAY_2  \\\n",
       "241  26bde6da-f148          0    0          0         0    0     0      0   \n",
       "296  42009c72-651f          0    0          0         0    0     0      0   \n",
       "\n",
       "     PAY_3  PAY_4  ...  BILL_AMT4  BILL_AMT5  BILL_AMT6  PAY_AMT1  PAY_AMT2  \\\n",
       "241      0      0  ...          0          0          0         0         0   \n",
       "296      0      0  ...          0          0          0         0         0   \n",
       "\n",
       "     PAY_AMT3  PAY_AMT4  PAY_AMT5  PAY_AMT6  default payment next month  \n",
       "241         0         0         0         0                           0  \n",
       "296         0         0         0         0                           0  \n",
       "\n",
       "[2 rows x 25 columns]"
      ]
     },
     "execution_count": 15,
     "metadata": {},
     "output_type": "execute_result"
    }
   ],
   "source": [
    "df[df['ID'].duplicated()].head(2)"
   ]
  },
  {
   "cell_type": "code",
   "execution_count": 16,
   "id": "d522f5cb-c55e-421e-9c21-4eeb32b679c3",
   "metadata": {},
   "outputs": [
    {
     "data": {
      "text/html": [
       "<div>\n",
       "<style scoped>\n",
       "    .dataframe tbody tr th:only-of-type {\n",
       "        vertical-align: middle;\n",
       "    }\n",
       "\n",
       "    .dataframe tbody tr th {\n",
       "        vertical-align: top;\n",
       "    }\n",
       "\n",
       "    .dataframe thead th {\n",
       "        text-align: right;\n",
       "    }\n",
       "</style>\n",
       "<table border=\"1\" class=\"dataframe\">\n",
       "  <thead>\n",
       "    <tr style=\"text-align: right;\">\n",
       "      <th></th>\n",
       "      <th>ID</th>\n",
       "      <th>LIMIT_BAL</th>\n",
       "      <th>SEX</th>\n",
       "      <th>EDUCATION</th>\n",
       "      <th>MARRIAGE</th>\n",
       "      <th>AGE</th>\n",
       "      <th>PAY_1</th>\n",
       "      <th>PAY_2</th>\n",
       "      <th>PAY_3</th>\n",
       "      <th>PAY_4</th>\n",
       "      <th>...</th>\n",
       "      <th>BILL_AMT4</th>\n",
       "      <th>BILL_AMT5</th>\n",
       "      <th>BILL_AMT6</th>\n",
       "      <th>PAY_AMT1</th>\n",
       "      <th>PAY_AMT2</th>\n",
       "      <th>PAY_AMT3</th>\n",
       "      <th>PAY_AMT4</th>\n",
       "      <th>PAY_AMT5</th>\n",
       "      <th>PAY_AMT6</th>\n",
       "      <th>default payment next month</th>\n",
       "    </tr>\n",
       "  </thead>\n",
       "  <tbody>\n",
       "    <tr>\n",
       "      <th>2105</th>\n",
       "      <td>ffa0f012-3bd7</td>\n",
       "      <td>0</td>\n",
       "      <td>0</td>\n",
       "      <td>0</td>\n",
       "      <td>0</td>\n",
       "      <td>0</td>\n",
       "      <td>0</td>\n",
       "      <td>0</td>\n",
       "      <td>0</td>\n",
       "      <td>0</td>\n",
       "      <td>...</td>\n",
       "      <td>0</td>\n",
       "      <td>0</td>\n",
       "      <td>0</td>\n",
       "      <td>0</td>\n",
       "      <td>0</td>\n",
       "      <td>0</td>\n",
       "      <td>0</td>\n",
       "      <td>0</td>\n",
       "      <td>0</td>\n",
       "      <td>0</td>\n",
       "    </tr>\n",
       "    <tr>\n",
       "      <th>8846</th>\n",
       "      <td>ffb9a143-c375</td>\n",
       "      <td>0</td>\n",
       "      <td>0</td>\n",
       "      <td>0</td>\n",
       "      <td>0</td>\n",
       "      <td>0</td>\n",
       "      <td>0</td>\n",
       "      <td>0</td>\n",
       "      <td>0</td>\n",
       "      <td>0</td>\n",
       "      <td>...</td>\n",
       "      <td>0</td>\n",
       "      <td>0</td>\n",
       "      <td>0</td>\n",
       "      <td>0</td>\n",
       "      <td>0</td>\n",
       "      <td>0</td>\n",
       "      <td>0</td>\n",
       "      <td>0</td>\n",
       "      <td>0</td>\n",
       "      <td>0</td>\n",
       "    </tr>\n",
       "  </tbody>\n",
       "</table>\n",
       "<p>2 rows × 25 columns</p>\n",
       "</div>"
      ],
      "text/plain": [
       "                 ID  LIMIT_BAL  SEX  EDUCATION  MARRIAGE  AGE PAY_1  PAY_2  \\\n",
       "2105  ffa0f012-3bd7          0    0          0         0    0     0      0   \n",
       "8846  ffb9a143-c375          0    0          0         0    0     0      0   \n",
       "\n",
       "      PAY_3  PAY_4  ...  BILL_AMT4  BILL_AMT5  BILL_AMT6  PAY_AMT1  PAY_AMT2  \\\n",
       "2105      0      0  ...          0          0          0         0         0   \n",
       "8846      0      0  ...          0          0          0         0         0   \n",
       "\n",
       "      PAY_AMT3  PAY_AMT4  PAY_AMT5  PAY_AMT6  default payment next month  \n",
       "2105         0         0         0         0                           0  \n",
       "8846         0         0         0         0                           0  \n",
       "\n",
       "[2 rows x 25 columns]"
      ]
     },
     "execution_count": 16,
     "metadata": {},
     "output_type": "execute_result"
    }
   ],
   "source": [
    "(df[df['ID'].duplicated()].sort_values('ID')).tail(2)"
   ]
  },
  {
   "cell_type": "code",
   "execution_count": 17,
   "id": "57f71a24-9786-479a-93e0-0ee01bb67cfb",
   "metadata": {},
   "outputs": [],
   "source": [
    "zeros_mask = (df.iloc[:,1:]==0).all(axis=1)\n",
    "df_clean =  df.loc[~zeros_mask,:].copy()"
   ]
  },
  {
   "cell_type": "code",
   "execution_count": 18,
   "id": "6d05c2eb-4182-4aad-a35f-1220f960e9aa",
   "metadata": {},
   "outputs": [
    {
     "data": {
      "text/plain": [
       "(29685, 25)"
      ]
     },
     "execution_count": 18,
     "metadata": {},
     "output_type": "execute_result"
    }
   ],
   "source": [
    "df_clean.shape"
   ]
  },
  {
   "cell_type": "code",
   "execution_count": 19,
   "id": "46615758-89cb-44e5-bc4b-36398c889285",
   "metadata": {},
   "outputs": [
    {
     "data": {
      "text/plain": [
       "0"
      ]
     },
     "execution_count": 19,
     "metadata": {},
     "output_type": "execute_result"
    }
   ],
   "source": [
    "df_clean.duplicated().sum()"
   ]
  },
  {
   "cell_type": "markdown",
   "id": "719f9308-1b8f-47c7-9475-df5df052ea7e",
   "metadata": {},
   "source": [
    "##### Working on the PAY_1 variable becuase it was the only one typed as object"
   ]
  },
  {
   "cell_type": "code",
   "execution_count": 20,
   "id": "8df6596a-a537-4aea-b7a0-2df3cf1ba8d0",
   "metadata": {},
   "outputs": [
    {
     "data": {
      "text/plain": [
       "ID                            object\n",
       "LIMIT_BAL                      int64\n",
       "SEX                            int64\n",
       "EDUCATION                      int64\n",
       "MARRIAGE                       int64\n",
       "AGE                            int64\n",
       "PAY_1                         object\n",
       "PAY_2                          int64\n",
       "PAY_3                          int64\n",
       "PAY_4                          int64\n",
       "PAY_5                          int64\n",
       "PAY_6                          int64\n",
       "BILL_AMT1                      int64\n",
       "BILL_AMT2                      int64\n",
       "BILL_AMT3                      int64\n",
       "BILL_AMT4                      int64\n",
       "BILL_AMT5                      int64\n",
       "BILL_AMT6                      int64\n",
       "PAY_AMT1                       int64\n",
       "PAY_AMT2                       int64\n",
       "PAY_AMT3                       int64\n",
       "PAY_AMT4                       int64\n",
       "PAY_AMT5                       int64\n",
       "PAY_AMT6                       int64\n",
       "default payment next month     int64\n",
       "dtype: object"
      ]
     },
     "execution_count": 20,
     "metadata": {},
     "output_type": "execute_result"
    }
   ],
   "source": [
    "df_clean.dtypes"
   ]
  },
  {
   "cell_type": "code",
   "execution_count": 21,
   "id": "df22321c-f81e-4b1c-b4c7-682eb828cd7f",
   "metadata": {},
   "outputs": [
    {
     "data": {
      "text/plain": [
       "array([2, -1, 0, -2, 1, 'Not available', 3, 4, 8, 7, 5, 6], dtype=object)"
      ]
     },
     "execution_count": 21,
     "metadata": {},
     "output_type": "execute_result"
    }
   ],
   "source": [
    "df_clean['PAY_1'].unique()"
   ]
  },
  {
   "cell_type": "code",
   "execution_count": 22,
   "id": "4f8c5fef-a282-4760-b5c4-5aee24404f35",
   "metadata": {},
   "outputs": [
    {
     "data": {
      "text/html": [
       "<div>\n",
       "<style scoped>\n",
       "    .dataframe tbody tr th:only-of-type {\n",
       "        vertical-align: middle;\n",
       "    }\n",
       "\n",
       "    .dataframe tbody tr th {\n",
       "        vertical-align: top;\n",
       "    }\n",
       "\n",
       "    .dataframe thead th {\n",
       "        text-align: right;\n",
       "    }\n",
       "</style>\n",
       "<table border=\"1\" class=\"dataframe\">\n",
       "  <thead>\n",
       "    <tr style=\"text-align: right;\">\n",
       "      <th></th>\n",
       "      <th>PAY_1</th>\n",
       "      <th>PAY_2</th>\n",
       "      <th>PAY_3</th>\n",
       "      <th>PAY_4</th>\n",
       "      <th>PAY_5</th>\n",
       "      <th>PAY_6</th>\n",
       "    </tr>\n",
       "  </thead>\n",
       "  <tbody>\n",
       "    <tr>\n",
       "      <th>0</th>\n",
       "      <td>13087</td>\n",
       "      <td>15563.0</td>\n",
       "      <td>15599.0</td>\n",
       "      <td>16285.0</td>\n",
       "      <td>16754.0</td>\n",
       "      <td>16093.0</td>\n",
       "    </tr>\n",
       "    <tr>\n",
       "      <th>-1</th>\n",
       "      <td>5047</td>\n",
       "      <td>5989.0</td>\n",
       "      <td>5869.0</td>\n",
       "      <td>5624.0</td>\n",
       "      <td>5488.0</td>\n",
       "      <td>5686.0</td>\n",
       "    </tr>\n",
       "    <tr>\n",
       "      <th>1</th>\n",
       "      <td>3261</td>\n",
       "      <td>28.0</td>\n",
       "      <td>4.0</td>\n",
       "      <td>2.0</td>\n",
       "      <td>NaN</td>\n",
       "      <td>NaN</td>\n",
       "    </tr>\n",
       "    <tr>\n",
       "      <th>Not available</th>\n",
       "      <td>3021</td>\n",
       "      <td>NaN</td>\n",
       "      <td>NaN</td>\n",
       "      <td>NaN</td>\n",
       "      <td>NaN</td>\n",
       "      <td>NaN</td>\n",
       "    </tr>\n",
       "    <tr>\n",
       "      <th>-2</th>\n",
       "      <td>2476</td>\n",
       "      <td>3746.0</td>\n",
       "      <td>4046.0</td>\n",
       "      <td>4309.0</td>\n",
       "      <td>4503.0</td>\n",
       "      <td>4849.0</td>\n",
       "    </tr>\n",
       "    <tr>\n",
       "      <th>2</th>\n",
       "      <td>2378</td>\n",
       "      <td>3878.0</td>\n",
       "      <td>3782.0</td>\n",
       "      <td>3121.0</td>\n",
       "      <td>2603.0</td>\n",
       "      <td>2749.0</td>\n",
       "    </tr>\n",
       "    <tr>\n",
       "      <th>3</th>\n",
       "      <td>292</td>\n",
       "      <td>325.0</td>\n",
       "      <td>237.0</td>\n",
       "      <td>180.0</td>\n",
       "      <td>177.0</td>\n",
       "      <td>181.0</td>\n",
       "    </tr>\n",
       "    <tr>\n",
       "      <th>4</th>\n",
       "      <td>63</td>\n",
       "      <td>99.0</td>\n",
       "      <td>74.0</td>\n",
       "      <td>66.0</td>\n",
       "      <td>81.0</td>\n",
       "      <td>48.0</td>\n",
       "    </tr>\n",
       "    <tr>\n",
       "      <th>5</th>\n",
       "      <td>23</td>\n",
       "      <td>24.0</td>\n",
       "      <td>21.0</td>\n",
       "      <td>34.0</td>\n",
       "      <td>17.0</td>\n",
       "      <td>13.0</td>\n",
       "    </tr>\n",
       "    <tr>\n",
       "      <th>8</th>\n",
       "      <td>17</td>\n",
       "      <td>1.0</td>\n",
       "      <td>3.0</td>\n",
       "      <td>2.0</td>\n",
       "      <td>1.0</td>\n",
       "      <td>2.0</td>\n",
       "    </tr>\n",
       "    <tr>\n",
       "      <th>6</th>\n",
       "      <td>11</td>\n",
       "      <td>12.0</td>\n",
       "      <td>23.0</td>\n",
       "      <td>5.0</td>\n",
       "      <td>4.0</td>\n",
       "      <td>19.0</td>\n",
       "    </tr>\n",
       "    <tr>\n",
       "      <th>7</th>\n",
       "      <td>9</td>\n",
       "      <td>20.0</td>\n",
       "      <td>27.0</td>\n",
       "      <td>57.0</td>\n",
       "      <td>57.0</td>\n",
       "      <td>45.0</td>\n",
       "    </tr>\n",
       "  </tbody>\n",
       "</table>\n",
       "</div>"
      ],
      "text/plain": [
       "               PAY_1    PAY_2    PAY_3    PAY_4    PAY_5    PAY_6\n",
       "0              13087  15563.0  15599.0  16285.0  16754.0  16093.0\n",
       "-1              5047   5989.0   5869.0   5624.0   5488.0   5686.0\n",
       "1               3261     28.0      4.0      2.0      NaN      NaN\n",
       "Not available   3021      NaN      NaN      NaN      NaN      NaN\n",
       "-2              2476   3746.0   4046.0   4309.0   4503.0   4849.0\n",
       "2               2378   3878.0   3782.0   3121.0   2603.0   2749.0\n",
       "3                292    325.0    237.0    180.0    177.0    181.0\n",
       "4                 63     99.0     74.0     66.0     81.0     48.0\n",
       "5                 23     24.0     21.0     34.0     17.0     13.0\n",
       "8                 17      1.0      3.0      2.0      1.0      2.0\n",
       "6                 11     12.0     23.0      5.0      4.0     19.0\n",
       "7                  9     20.0     27.0     57.0     57.0     45.0"
      ]
     },
     "execution_count": 22,
     "metadata": {},
     "output_type": "execute_result"
    }
   ],
   "source": [
    "pd.concat([df_clean['PAY_1'].value_counts(dropna=False),\n",
    "           df_clean['PAY_2'].value_counts(dropna=False),\n",
    "           df_clean['PAY_3'].value_counts(dropna=False),\n",
    "           df_clean['PAY_4'].value_counts(dropna=False),\n",
    "           df_clean['PAY_5'].value_counts(dropna=False),\n",
    "           df_clean['PAY_6'].value_counts(dropna=False)],axis=1,keys=['PAY_1',\n",
    "                                                                      'PAY_2',\n",
    "                                                                      'PAY_3',\n",
    "                                                                      'PAY_4',\n",
    "                                                                      'PAY_5',\n",
    "                                                                      'PAY_6'])"
   ]
  },
  {
   "cell_type": "markdown",
   "id": "03a9a18b-5219-45ca-ac89-ced6f25c6339",
   "metadata": {},
   "source": [
    "**Discussion**: We observe that despite the lack of definition the value `-2` seems to be available in all of the variables and might have meaning. `Not available` might be a null value, thus we can replacee with `np.nan`\n",
    "\n",
    "i.e\n",
    "\n",
    "\n",
    "| Value | Strategy   |\n",
    "| ------|------------|\n",
    "|-2    | leave value and investigate further|\n",
    "| Not available | replace with np.nan |"
   ]
  },
  {
   "cell_type": "code",
   "execution_count": 23,
   "id": "2a45143c-428d-4e9d-96e7-dc9219ad0829",
   "metadata": {},
   "outputs": [],
   "source": [
    "not_available_mask =  df_clean['PAY_1']=='Not available'"
   ]
  },
  {
   "cell_type": "code",
   "execution_count": 24,
   "id": "4d68048c-8e98-4711-abd4-38fa92fa9989",
   "metadata": {},
   "outputs": [
    {
     "data": {
      "text/html": [
       "<div>\n",
       "<style scoped>\n",
       "    .dataframe tbody tr th:only-of-type {\n",
       "        vertical-align: middle;\n",
       "    }\n",
       "\n",
       "    .dataframe tbody tr th {\n",
       "        vertical-align: top;\n",
       "    }\n",
       "\n",
       "    .dataframe thead th {\n",
       "        text-align: right;\n",
       "    }\n",
       "</style>\n",
       "<table border=\"1\" class=\"dataframe\">\n",
       "  <thead>\n",
       "    <tr style=\"text-align: right;\">\n",
       "      <th></th>\n",
       "      <th>ID</th>\n",
       "      <th>LIMIT_BAL</th>\n",
       "      <th>SEX</th>\n",
       "      <th>EDUCATION</th>\n",
       "      <th>MARRIAGE</th>\n",
       "      <th>AGE</th>\n",
       "      <th>PAY_1</th>\n",
       "      <th>PAY_2</th>\n",
       "      <th>PAY_3</th>\n",
       "      <th>PAY_4</th>\n",
       "      <th>...</th>\n",
       "      <th>BILL_AMT4</th>\n",
       "      <th>BILL_AMT5</th>\n",
       "      <th>BILL_AMT6</th>\n",
       "      <th>PAY_AMT1</th>\n",
       "      <th>PAY_AMT2</th>\n",
       "      <th>PAY_AMT3</th>\n",
       "      <th>PAY_AMT4</th>\n",
       "      <th>PAY_AMT5</th>\n",
       "      <th>PAY_AMT6</th>\n",
       "      <th>default payment next month</th>\n",
       "    </tr>\n",
       "  </thead>\n",
       "  <tbody>\n",
       "    <tr>\n",
       "      <th>17</th>\n",
       "      <td>f0ba5e02-0c0f</td>\n",
       "      <td>320000</td>\n",
       "      <td>1</td>\n",
       "      <td>1</td>\n",
       "      <td>1</td>\n",
       "      <td>49</td>\n",
       "      <td>Not available</td>\n",
       "      <td>0</td>\n",
       "      <td>0</td>\n",
       "      <td>-1</td>\n",
       "      <td>...</td>\n",
       "      <td>70074</td>\n",
       "      <td>5856</td>\n",
       "      <td>195599</td>\n",
       "      <td>10358</td>\n",
       "      <td>10000</td>\n",
       "      <td>75940</td>\n",
       "      <td>20000</td>\n",
       "      <td>195599</td>\n",
       "      <td>50000</td>\n",
       "      <td>0</td>\n",
       "    </tr>\n",
       "    <tr>\n",
       "      <th>28</th>\n",
       "      <td>aecb449b-a999</td>\n",
       "      <td>50000</td>\n",
       "      <td>2</td>\n",
       "      <td>3</td>\n",
       "      <td>1</td>\n",
       "      <td>47</td>\n",
       "      <td>Not available</td>\n",
       "      <td>-1</td>\n",
       "      <td>-1</td>\n",
       "      <td>-1</td>\n",
       "      <td>...</td>\n",
       "      <td>2040</td>\n",
       "      <td>30430</td>\n",
       "      <td>257</td>\n",
       "      <td>3415</td>\n",
       "      <td>3421</td>\n",
       "      <td>2044</td>\n",
       "      <td>30430</td>\n",
       "      <td>257</td>\n",
       "      <td>0</td>\n",
       "      <td>0</td>\n",
       "    </tr>\n",
       "  </tbody>\n",
       "</table>\n",
       "<p>2 rows × 25 columns</p>\n",
       "</div>"
      ],
      "text/plain": [
       "               ID  LIMIT_BAL  SEX  EDUCATION  MARRIAGE  AGE          PAY_1  \\\n",
       "17  f0ba5e02-0c0f     320000    1          1         1   49  Not available   \n",
       "28  aecb449b-a999      50000    2          3         1   47  Not available   \n",
       "\n",
       "    PAY_2  PAY_3  PAY_4  ...  BILL_AMT4  BILL_AMT5  BILL_AMT6  PAY_AMT1  \\\n",
       "17      0      0     -1  ...      70074       5856     195599     10358   \n",
       "28     -1     -1     -1  ...       2040      30430        257      3415   \n",
       "\n",
       "    PAY_AMT2  PAY_AMT3  PAY_AMT4  PAY_AMT5  PAY_AMT6  \\\n",
       "17     10000     75940     20000    195599     50000   \n",
       "28      3421      2044     30430       257         0   \n",
       "\n",
       "    default payment next month  \n",
       "17                           0  \n",
       "28                           0  \n",
       "\n",
       "[2 rows x 25 columns]"
      ]
     },
     "execution_count": 24,
     "metadata": {},
     "output_type": "execute_result"
    }
   ],
   "source": [
    "df_clean.loc[not_available_mask,:].head(2)"
   ]
  },
  {
   "cell_type": "code",
   "execution_count": 25,
   "id": "cd2f746a-fe0d-4184-aaa8-905b1502b669",
   "metadata": {},
   "outputs": [
    {
     "data": {
      "text/html": [
       "<div>\n",
       "<style scoped>\n",
       "    .dataframe tbody tr th:only-of-type {\n",
       "        vertical-align: middle;\n",
       "    }\n",
       "\n",
       "    .dataframe tbody tr th {\n",
       "        vertical-align: top;\n",
       "    }\n",
       "\n",
       "    .dataframe thead th {\n",
       "        text-align: right;\n",
       "    }\n",
       "</style>\n",
       "<table border=\"1\" class=\"dataframe\">\n",
       "  <thead>\n",
       "    <tr style=\"text-align: right;\">\n",
       "      <th></th>\n",
       "      <th>ID</th>\n",
       "      <th>LIMIT_BAL</th>\n",
       "      <th>SEX</th>\n",
       "      <th>EDUCATION</th>\n",
       "      <th>MARRIAGE</th>\n",
       "      <th>AGE</th>\n",
       "      <th>PAY_1</th>\n",
       "      <th>PAY_2</th>\n",
       "      <th>PAY_3</th>\n",
       "      <th>PAY_4</th>\n",
       "      <th>...</th>\n",
       "      <th>BILL_AMT4</th>\n",
       "      <th>BILL_AMT5</th>\n",
       "      <th>BILL_AMT6</th>\n",
       "      <th>PAY_AMT1</th>\n",
       "      <th>PAY_AMT2</th>\n",
       "      <th>PAY_AMT3</th>\n",
       "      <th>PAY_AMT4</th>\n",
       "      <th>PAY_AMT5</th>\n",
       "      <th>PAY_AMT6</th>\n",
       "      <th>default payment next month</th>\n",
       "    </tr>\n",
       "  </thead>\n",
       "  <tbody>\n",
       "    <tr>\n",
       "      <th>29973</th>\n",
       "      <td>31c0c152-e5ac</td>\n",
       "      <td>230000</td>\n",
       "      <td>1</td>\n",
       "      <td>2</td>\n",
       "      <td>1</td>\n",
       "      <td>35</td>\n",
       "      <td>Not available</td>\n",
       "      <td>-2</td>\n",
       "      <td>-2</td>\n",
       "      <td>-2</td>\n",
       "      <td>...</td>\n",
       "      <td>0</td>\n",
       "      <td>0</td>\n",
       "      <td>0</td>\n",
       "      <td>0</td>\n",
       "      <td>0</td>\n",
       "      <td>0</td>\n",
       "      <td>0</td>\n",
       "      <td>0</td>\n",
       "      <td>0</td>\n",
       "      <td>1</td>\n",
       "    </tr>\n",
       "    <tr>\n",
       "      <th>29984</th>\n",
       "      <td>3aee2b22-6bd0</td>\n",
       "      <td>30000</td>\n",
       "      <td>1</td>\n",
       "      <td>2</td>\n",
       "      <td>2</td>\n",
       "      <td>38</td>\n",
       "      <td>Not available</td>\n",
       "      <td>-1</td>\n",
       "      <td>-2</td>\n",
       "      <td>-1</td>\n",
       "      <td>...</td>\n",
       "      <td>1993</td>\n",
       "      <td>1907</td>\n",
       "      <td>3319</td>\n",
       "      <td>923</td>\n",
       "      <td>2977</td>\n",
       "      <td>1999</td>\n",
       "      <td>3057</td>\n",
       "      <td>3319</td>\n",
       "      <td>1000</td>\n",
       "      <td>0</td>\n",
       "    </tr>\n",
       "  </tbody>\n",
       "</table>\n",
       "<p>2 rows × 25 columns</p>\n",
       "</div>"
      ],
      "text/plain": [
       "                  ID  LIMIT_BAL  SEX  EDUCATION  MARRIAGE  AGE          PAY_1  \\\n",
       "29973  31c0c152-e5ac     230000    1          2         1   35  Not available   \n",
       "29984  3aee2b22-6bd0      30000    1          2         2   38  Not available   \n",
       "\n",
       "       PAY_2  PAY_3  PAY_4  ...  BILL_AMT4  BILL_AMT5  BILL_AMT6  PAY_AMT1  \\\n",
       "29973     -2     -2     -2  ...          0          0          0         0   \n",
       "29984     -1     -2     -1  ...       1993       1907       3319       923   \n",
       "\n",
       "       PAY_AMT2  PAY_AMT3  PAY_AMT4  PAY_AMT5  PAY_AMT6  \\\n",
       "29973         0         0         0         0         0   \n",
       "29984      2977      1999      3057      3319      1000   \n",
       "\n",
       "       default payment next month  \n",
       "29973                           1  \n",
       "29984                           0  \n",
       "\n",
       "[2 rows x 25 columns]"
      ]
     },
     "execution_count": 25,
     "metadata": {},
     "output_type": "execute_result"
    }
   ],
   "source": [
    "df_clean.loc[not_available_mask,:].tail(2)"
   ]
  },
  {
   "cell_type": "code",
   "execution_count": 26,
   "id": "2620843d-1900-4d2f-bb71-0ff010cbe648",
   "metadata": {},
   "outputs": [],
   "source": [
    "df_clean.loc[not_available_mask,'PAY_1']=np.nan"
   ]
  },
  {
   "cell_type": "code",
   "execution_count": 27,
   "id": "36b0553c-9902-4dfc-b106-34abe19a87ef",
   "metadata": {},
   "outputs": [
    {
     "data": {
      "text/plain": [
       "ID                             0.000000\n",
       "LIMIT_BAL                      0.000000\n",
       "SEX                            0.000000\n",
       "EDUCATION                      0.000000\n",
       "MARRIAGE                       0.000000\n",
       "AGE                            0.000000\n",
       "PAY_1                         10.176857\n",
       "PAY_2                          0.000000\n",
       "PAY_3                          0.000000\n",
       "PAY_4                          0.000000\n",
       "PAY_5                          0.000000\n",
       "PAY_6                          0.000000\n",
       "BILL_AMT1                      0.000000\n",
       "BILL_AMT2                      0.000000\n",
       "BILL_AMT3                      0.000000\n",
       "BILL_AMT4                      0.000000\n",
       "BILL_AMT5                      0.000000\n",
       "BILL_AMT6                      0.000000\n",
       "PAY_AMT1                       0.000000\n",
       "PAY_AMT2                       0.000000\n",
       "PAY_AMT3                       0.000000\n",
       "PAY_AMT4                       0.000000\n",
       "PAY_AMT5                       0.000000\n",
       "PAY_AMT6                       0.000000\n",
       "default payment next month     0.000000\n",
       "dtype: float64"
      ]
     },
     "execution_count": 27,
     "metadata": {},
     "output_type": "execute_result"
    }
   ],
   "source": [
    "((df_clean.isnull().sum())/df_clean.shape[0])*100"
   ]
  },
  {
   "cell_type": "markdown",
   "id": "49c85821-0e7b-4201-be8d-bb43ad01126c",
   "metadata": {},
   "source": [
    "# 2 Data Visualisation"
   ]
  },
  {
   "cell_type": "code",
   "execution_count": 28,
   "id": "31496bf2-63aa-46d8-a758-f51287c7b2db",
   "metadata": {},
   "outputs": [],
   "source": [
    "import matplotlib.pyplot as plt\n",
    "import matplotlib as mpl\n",
    "%matplotlib inline\n",
    "\n",
    "mpl.rcParams['figure.dpi'] = 100"
   ]
  },
  {
   "cell_type": "code",
   "execution_count": 29,
   "id": "889f6cb7-bb81-4b86-a93d-d99a15c66804",
   "metadata": {},
   "outputs": [
    {
     "data": {
      "image/png": "[encoded data removed]",
      "text/plain": [
       "<Figure size 640x480 with 2 Axes>"
      ]
     },
     "metadata": {},
     "output_type": "display_data"
    }
   ],
   "source": [
    "df_clean[['LIMIT_BAL','AGE']].hist(layout=(1,2))\n",
    "plt.show()"
   ]
  },
  {
   "cell_type": "code",
   "execution_count": 30,
   "id": "f9ed8d65-6601-4713-b39f-98f639328319",
   "metadata": {},
   "outputs": [
    {
     "data": {
      "text/html": [
       "<div>\n",
       "<style scoped>\n",
       "    .dataframe tbody tr th:only-of-type {\n",
       "        vertical-align: middle;\n",
       "    }\n",
       "\n",
       "    .dataframe tbody tr th {\n",
       "        vertical-align: top;\n",
       "    }\n",
       "\n",
       "    .dataframe thead th {\n",
       "        text-align: right;\n",
       "    }\n",
       "</style>\n",
       "<table border=\"1\" class=\"dataframe\">\n",
       "  <thead>\n",
       "    <tr style=\"text-align: right;\">\n",
       "      <th></th>\n",
       "      <th>LIMIT_BAL</th>\n",
       "      <th>AGE</th>\n",
       "    </tr>\n",
       "  </thead>\n",
       "  <tbody>\n",
       "    <tr>\n",
       "      <th>count</th>\n",
       "      <td>29685.000000</td>\n",
       "      <td>29685.000000</td>\n",
       "    </tr>\n",
       "    <tr>\n",
       "      <th>mean</th>\n",
       "      <td>167519.948796</td>\n",
       "      <td>35.481354</td>\n",
       "    </tr>\n",
       "    <tr>\n",
       "      <th>std</th>\n",
       "      <td>129716.478534</td>\n",
       "      <td>9.212199</td>\n",
       "    </tr>\n",
       "    <tr>\n",
       "      <th>min</th>\n",
       "      <td>10000.000000</td>\n",
       "      <td>21.000000</td>\n",
       "    </tr>\n",
       "    <tr>\n",
       "      <th>25%</th>\n",
       "      <td>50000.000000</td>\n",
       "      <td>28.000000</td>\n",
       "    </tr>\n",
       "    <tr>\n",
       "      <th>50%</th>\n",
       "      <td>140000.000000</td>\n",
       "      <td>34.000000</td>\n",
       "    </tr>\n",
       "    <tr>\n",
       "      <th>75%</th>\n",
       "      <td>240000.000000</td>\n",
       "      <td>41.000000</td>\n",
       "    </tr>\n",
       "    <tr>\n",
       "      <th>max</th>\n",
       "      <td>1000000.000000</td>\n",
       "      <td>79.000000</td>\n",
       "    </tr>\n",
       "  </tbody>\n",
       "</table>\n",
       "</div>"
      ],
      "text/plain": [
       "            LIMIT_BAL           AGE\n",
       "count    29685.000000  29685.000000\n",
       "mean    167519.948796     35.481354\n",
       "std     129716.478534      9.212199\n",
       "min      10000.000000     21.000000\n",
       "25%      50000.000000     28.000000\n",
       "50%     140000.000000     34.000000\n",
       "75%     240000.000000     41.000000\n",
       "max    1000000.000000     79.000000"
      ]
     },
     "execution_count": 30,
     "metadata": {},
     "output_type": "execute_result"
    }
   ],
   "source": [
    "df_clean[['LIMIT_BAL','AGE']].describe()"
   ]
  },
  {
   "cell_type": "code",
   "execution_count": 31,
   "id": "e9542e8f-5f16-4e2c-af2a-653dc9f28116",
   "metadata": {},
   "outputs": [
    {
     "name": "stdout",
     "output_type": "stream",
     "text": [
      "ID\n",
      "PAY_1\n"
     ]
    }
   ],
   "source": [
    "for col in df_clean.columns:\n",
    "    if df_clean[col].dtypes == 'object':\n",
    "        print(col)"
   ]
  },
  {
   "cell_type": "code",
   "execution_count": 32,
   "id": "44d4be6c-6f56-4e24-850f-145096c53872",
   "metadata": {},
   "outputs": [],
   "source": [
    "df_clean.columns =  df_clean.columns.str.lower()"
   ]
  },
  {
   "cell_type": "code",
   "execution_count": 33,
   "id": "81533c13-76a8-4c23-bcdf-ec647c27cdaf",
   "metadata": {},
   "outputs": [
    {
     "data": {
      "text/plain": [
       "education\n",
       "2    13884\n",
       "1    10474\n",
       "3     4867\n",
       "5      275\n",
       "4      122\n",
       "6       49\n",
       "0       14\n",
       "Name: count, dtype: int64"
      ]
     },
     "execution_count": 33,
     "metadata": {},
     "output_type": "execute_result"
    }
   ],
   "source": [
    "df_clean['education'].value_counts()"
   ]
  },
  {
   "cell_type": "code",
   "execution_count": 34,
   "id": "7cc795b8-29c1-435d-89f1-18298d33ac54",
   "metadata": {},
   "outputs": [
    {
     "data": {
      "text/plain": [
       "marriage\n",
       "2    15810\n",
       "1    13503\n",
       "3      318\n",
       "0       54\n",
       "Name: count, dtype: int64"
      ]
     },
     "execution_count": 34,
     "metadata": {},
     "output_type": "execute_result"
    }
   ],
   "source": [
    "df_clean['marriage'].value_counts()"
   ]
  },
  {
   "cell_type": "code",
   "execution_count": 35,
   "id": "d72c57df-2c83-49d0-a629-40c8963df6e6",
   "metadata": {},
   "outputs": [
    {
     "data": {
      "text/plain": [
       "sex\n",
       "2    17910\n",
       "1    11775\n",
       "Name: count, dtype: int64"
      ]
     },
     "execution_count": 35,
     "metadata": {},
     "output_type": "execute_result"
    }
   ],
   "source": [
    "df_clean['sex'].value_counts()"
   ]
  },
  {
   "cell_type": "code",
   "execution_count": 36,
   "id": "dbe1b96c-df56-4b8e-8af6-e09a5348b1da",
   "metadata": {},
   "outputs": [],
   "source": [
    "#pd.DataFrame({col:df_clean[col].nunique() for col in df_clean.columns},index=range(1)).T"
   ]
  },
  {
   "cell_type": "code",
   "execution_count": 37,
   "id": "d9914da8-9063-4717-b0d9-d63f732424cb",
   "metadata": {},
   "outputs": [
    {
     "data": {
      "text/plain": [
       "<Axes: >"
      ]
     },
     "execution_count": 37,
     "metadata": {},
     "output_type": "execute_result"
    },
    {
     "data": {
      "image/png": "[encoded data removed]",
      "text/plain": [
       "<Figure size 640x480 with 1 Axes>"
      ]
     },
     "metadata": {},
     "output_type": "display_data"
    }
   ],
   "source": [
    "#df_clean['marriage'].plot()"
   ]
  },
  {
   "cell_type": "code",
   "execution_count": 38,
   "id": "426be0fd-f63a-4b97-bd83-ec16c84e5431",
   "metadata": {},
   "outputs": [],
   "source": [
    "df_clean.loc[df_clean['education'].isin([5,6,0]),'education']=4"
   ]
  },
  {
   "cell_type": "code",
   "execution_count": 39,
   "id": "e50f2386-a545-4b3a-9135-2a55929b9b4c",
   "metadata": {},
   "outputs": [],
   "source": [
    "df_clean.loc[df_clean['marriage']==0,'marriage']=3"
   ]
  },
  {
   "cell_type": "code",
   "execution_count": 40,
   "id": "b99b99a8-12bf-4684-89f2-a6e13f2cfa1f",
   "metadata": {},
   "outputs": [
    {
     "data": {
      "text/plain": [
       "education\n",
       "2    13884\n",
       "1    10474\n",
       "3     4867\n",
       "4      460\n",
       "Name: count, dtype: int64"
      ]
     },
     "execution_count": 40,
     "metadata": {},
     "output_type": "execute_result"
    }
   ],
   "source": [
    "df_clean['education'].value_counts()"
   ]
  },
  {
   "cell_type": "code",
   "execution_count": 41,
   "id": "2478781c-4cd5-4622-b6d4-bd2044e58901",
   "metadata": {},
   "outputs": [
    {
     "data": {
      "text/plain": [
       "marriage\n",
       "2    15810\n",
       "1    13503\n",
       "3      372\n",
       "Name: count, dtype: int64"
      ]
     },
     "execution_count": 41,
     "metadata": {},
     "output_type": "execute_result"
    }
   ],
   "source": [
    "df_clean['marriage'].value_counts()"
   ]
  },
  {
   "cell_type": "code",
   "execution_count": 42,
   "id": "518d0841-ea9b-4aac-89fe-26b32bf398f0",
   "metadata": {},
   "outputs": [
    {
     "data": {
      "text/plain": [
       "(29685, 25)"
      ]
     },
     "execution_count": 42,
     "metadata": {},
     "output_type": "execute_result"
    }
   ],
   "source": [
    "df_clean.shape"
   ]
  },
  {
   "cell_type": "code",
   "execution_count": 43,
   "id": "7d67bdfd-af08-4a3c-bba4-27f97169d9f7",
   "metadata": {},
   "outputs": [
    {
     "data": {
      "text/plain": [
       "Index(['id', 'limit_bal', 'sex', 'education', 'marriage', 'age', 'pay_1',\n",
       "       'pay_2', 'pay_3', 'pay_4', 'pay_5', 'pay_6', 'bill_amt1', 'bill_amt2',\n",
       "       'bill_amt3', 'bill_amt4', 'bill_amt5', 'bill_amt6', 'pay_amt1',\n",
       "       'pay_amt2', 'pay_amt3', 'pay_amt4', 'pay_amt5', 'pay_amt6',\n",
       "       'default payment next month'],\n",
       "      dtype='object')"
      ]
     },
     "execution_count": 43,
     "metadata": {},
     "output_type": "execute_result"
    }
   ],
   "source": [
    "df_clean.columns"
   ]
  },
  {
   "cell_type": "code",
   "execution_count": 44,
   "id": "7543b157-83c8-487e-899b-22b741a5e9fb",
   "metadata": {},
   "outputs": [
    {
     "data": {
      "text/plain": [
       "<Axes: xlabel='education'>"
      ]
     },
     "execution_count": 44,
     "metadata": {},
     "output_type": "execute_result"
    },
    {
     "data": {
      "image/png": "[encoded data removed]",
      "text/plain": [
       "<Figure size 640x480 with 1 Axes>"
      ]
     },
     "metadata": {},
     "output_type": "display_data"
    }
   ],
   "source": [
    "df_clean.groupby('education').agg({'default payment next month':'mean'}).plot(kind='bar')"
   ]
  },
  {
   "cell_type": "code",
   "execution_count": 45,
   "id": "fba8c595-a760-43e4-b95a-5ecb3ac2e0bd",
   "metadata": {},
   "outputs": [
    {
     "data": {
      "text/plain": [
       "<Axes: xlabel='marriage'>"
      ]
     },
     "execution_count": 45,
     "metadata": {},
     "output_type": "execute_result"
    },
    {
     "data": {
      "image/png": "[encoded data removed]",
      "text/plain": [
       "<Figure size 640x480 with 1 Axes>"
      ]
     },
     "metadata": {},
     "output_type": "display_data"
    }
   ],
   "source": [
    "df_clean.groupby('marriage').agg({'default payment next month':'mean'}).plot(kind='bar')"
   ]
  },
  {
   "cell_type": "code",
   "execution_count": 46,
   "id": "b1baaac4-20bf-4cd3-8007-27640b488568",
   "metadata": {},
   "outputs": [],
   "source": [
    "edu_ohe = pd.get_dummies(df_clean['education'].map({1:'graduate school', 2:'university',\n",
    "                                                    3:'high school',\n",
    "                                                    4:'others'}))"
   ]
  },
  {
   "cell_type": "code",
   "execution_count": 47,
   "id": "25552752-e488-4ebd-a7cd-60f805af34fe",
   "metadata": {},
   "outputs": [],
   "source": [
    "df_with_ohe = pd.concat([df_clean,edu_ohe],axis=1)"
   ]
  },
  {
   "cell_type": "code",
   "execution_count": 48,
   "id": "60c20e0e-6677-4270-8e50-4cf25c57e4aa",
   "metadata": {},
   "outputs": [
    {
     "data": {
      "text/html": [
       "<div>\n",
       "<style scoped>\n",
       "    .dataframe tbody tr th:only-of-type {\n",
       "        vertical-align: middle;\n",
       "    }\n",
       "\n",
       "    .dataframe tbody tr th {\n",
       "        vertical-align: top;\n",
       "    }\n",
       "\n",
       "    .dataframe thead th {\n",
       "        text-align: right;\n",
       "    }\n",
       "</style>\n",
       "<table border=\"1\" class=\"dataframe\">\n",
       "  <thead>\n",
       "    <tr style=\"text-align: right;\">\n",
       "      <th></th>\n",
       "      <th>id</th>\n",
       "      <th>limit_bal</th>\n",
       "      <th>sex</th>\n",
       "      <th>education</th>\n",
       "      <th>marriage</th>\n",
       "      <th>age</th>\n",
       "      <th>pay_1</th>\n",
       "      <th>pay_2</th>\n",
       "      <th>pay_3</th>\n",
       "      <th>pay_4</th>\n",
       "      <th>...</th>\n",
       "      <th>pay_amt2</th>\n",
       "      <th>pay_amt3</th>\n",
       "      <th>pay_amt4</th>\n",
       "      <th>pay_amt5</th>\n",
       "      <th>pay_amt6</th>\n",
       "      <th>default payment next month</th>\n",
       "      <th>graduate school</th>\n",
       "      <th>high school</th>\n",
       "      <th>others</th>\n",
       "      <th>university</th>\n",
       "    </tr>\n",
       "  </thead>\n",
       "  <tbody>\n",
       "    <tr>\n",
       "      <th>0</th>\n",
       "      <td>798fc410-45c1</td>\n",
       "      <td>20000</td>\n",
       "      <td>2</td>\n",
       "      <td>2</td>\n",
       "      <td>1</td>\n",
       "      <td>24</td>\n",
       "      <td>2</td>\n",
       "      <td>2</td>\n",
       "      <td>-1</td>\n",
       "      <td>-1</td>\n",
       "      <td>...</td>\n",
       "      <td>689</td>\n",
       "      <td>0</td>\n",
       "      <td>0</td>\n",
       "      <td>0</td>\n",
       "      <td>0</td>\n",
       "      <td>1</td>\n",
       "      <td>False</td>\n",
       "      <td>False</td>\n",
       "      <td>False</td>\n",
       "      <td>True</td>\n",
       "    </tr>\n",
       "    <tr>\n",
       "      <th>1</th>\n",
       "      <td>8a8c8f3b-8eb4</td>\n",
       "      <td>120000</td>\n",
       "      <td>2</td>\n",
       "      <td>2</td>\n",
       "      <td>2</td>\n",
       "      <td>26</td>\n",
       "      <td>-1</td>\n",
       "      <td>2</td>\n",
       "      <td>0</td>\n",
       "      <td>0</td>\n",
       "      <td>...</td>\n",
       "      <td>1000</td>\n",
       "      <td>1000</td>\n",
       "      <td>1000</td>\n",
       "      <td>0</td>\n",
       "      <td>2000</td>\n",
       "      <td>1</td>\n",
       "      <td>False</td>\n",
       "      <td>False</td>\n",
       "      <td>False</td>\n",
       "      <td>True</td>\n",
       "    </tr>\n",
       "    <tr>\n",
       "      <th>2</th>\n",
       "      <td>85698822-43f5</td>\n",
       "      <td>90000</td>\n",
       "      <td>2</td>\n",
       "      <td>2</td>\n",
       "      <td>2</td>\n",
       "      <td>34</td>\n",
       "      <td>0</td>\n",
       "      <td>0</td>\n",
       "      <td>0</td>\n",
       "      <td>0</td>\n",
       "      <td>...</td>\n",
       "      <td>1500</td>\n",
       "      <td>1000</td>\n",
       "      <td>1000</td>\n",
       "      <td>1000</td>\n",
       "      <td>5000</td>\n",
       "      <td>0</td>\n",
       "      <td>False</td>\n",
       "      <td>False</td>\n",
       "      <td>False</td>\n",
       "      <td>True</td>\n",
       "    </tr>\n",
       "    <tr>\n",
       "      <th>3</th>\n",
       "      <td>0737c11b-be42</td>\n",
       "      <td>50000</td>\n",
       "      <td>2</td>\n",
       "      <td>2</td>\n",
       "      <td>1</td>\n",
       "      <td>37</td>\n",
       "      <td>0</td>\n",
       "      <td>0</td>\n",
       "      <td>0</td>\n",
       "      <td>0</td>\n",
       "      <td>...</td>\n",
       "      <td>2019</td>\n",
       "      <td>1200</td>\n",
       "      <td>1100</td>\n",
       "      <td>1069</td>\n",
       "      <td>1000</td>\n",
       "      <td>0</td>\n",
       "      <td>False</td>\n",
       "      <td>False</td>\n",
       "      <td>False</td>\n",
       "      <td>True</td>\n",
       "    </tr>\n",
       "    <tr>\n",
       "      <th>4</th>\n",
       "      <td>3b7f77cc-dbc0</td>\n",
       "      <td>50000</td>\n",
       "      <td>1</td>\n",
       "      <td>2</td>\n",
       "      <td>1</td>\n",
       "      <td>57</td>\n",
       "      <td>-1</td>\n",
       "      <td>0</td>\n",
       "      <td>-1</td>\n",
       "      <td>0</td>\n",
       "      <td>...</td>\n",
       "      <td>36681</td>\n",
       "      <td>10000</td>\n",
       "      <td>9000</td>\n",
       "      <td>689</td>\n",
       "      <td>679</td>\n",
       "      <td>0</td>\n",
       "      <td>False</td>\n",
       "      <td>False</td>\n",
       "      <td>False</td>\n",
       "      <td>True</td>\n",
       "    </tr>\n",
       "  </tbody>\n",
       "</table>\n",
       "<p>5 rows × 29 columns</p>\n",
       "</div>"
      ],
      "text/plain": [
       "              id  limit_bal  sex  education  marriage  age pay_1  pay_2  \\\n",
       "0  798fc410-45c1      20000    2          2         1   24     2      2   \n",
       "1  8a8c8f3b-8eb4     120000    2          2         2   26    -1      2   \n",
       "2  85698822-43f5      90000    2          2         2   34     0      0   \n",
       "3  0737c11b-be42      50000    2          2         1   37     0      0   \n",
       "4  3b7f77cc-dbc0      50000    1          2         1   57    -1      0   \n",
       "\n",
       "   pay_3  pay_4  ...  pay_amt2  pay_amt3  pay_amt4  pay_amt5  pay_amt6  \\\n",
       "0     -1     -1  ...       689         0         0         0         0   \n",
       "1      0      0  ...      1000      1000      1000         0      2000   \n",
       "2      0      0  ...      1500      1000      1000      1000      5000   \n",
       "3      0      0  ...      2019      1200      1100      1069      1000   \n",
       "4     -1      0  ...     36681     10000      9000       689       679   \n",
       "\n",
       "   default payment next month  graduate school  high school  others  \\\n",
       "0                           1            False        False   False   \n",
       "1                           1            False        False   False   \n",
       "2                           0            False        False   False   \n",
       "3                           0            False        False   False   \n",
       "4                           0            False        False   False   \n",
       "\n",
       "   university  \n",
       "0        True  \n",
       "1        True  \n",
       "2        True  \n",
       "3        True  \n",
       "4        True  \n",
       "\n",
       "[5 rows x 29 columns]"
      ]
     },
     "execution_count": 48,
     "metadata": {},
     "output_type": "execute_result"
    }
   ],
   "source": [
    "df_with_ohe.head()"
   ]
  },
  {
   "cell_type": "code",
   "execution_count": 49,
   "id": "3672fa50-eac6-450b-907d-12621f000702",
   "metadata": {},
   "outputs": [],
   "source": [
    "df_with_ohe.to_csv('../data/Chapter_1_cleaned_data.csv',index=False)"
   ]
  },
  {
   "cell_type": "code",
   "execution_count": 50,
   "id": "f8d3e57a-a949-4d9f-b994-5cb6fa976782",
   "metadata": {},
   "outputs": [
    {
     "data": {
      "text/plain": [
       "Index(['id', 'limit_bal', 'sex', 'education', 'marriage', 'age', 'pay_1',\n",
       "       'pay_2', 'pay_3', 'pay_4', 'pay_5', 'pay_6', 'bill_amt1', 'bill_amt2',\n",
       "       'bill_amt3', 'bill_amt4', 'bill_amt5', 'bill_amt6', 'pay_amt1',\n",
       "       'pay_amt2', 'pay_amt3', 'pay_amt4', 'pay_amt5', 'pay_amt6',\n",
       "       'default payment next month', 'graduate school', 'high school',\n",
       "       'others', 'university'],\n",
       "      dtype='object')"
      ]
     },
     "execution_count": 50,
     "metadata": {},
     "output_type": "execute_result"
    }
   ],
   "source": [
    "df_with_ohe.columns"
   ]
  },
  {
   "cell_type": "code",
   "execution_count": 51,
   "id": "a384bc09-d3d2-4542-923b-4b6bb222eac2",
   "metadata": {},
   "outputs": [],
   "source": [
    "pay_feats = ['pay_1','pay_2', 'pay_3', 'pay_4', 'pay_5', 'pay_6']"
   ]
  },
  {
   "cell_type": "code",
   "execution_count": 52,
   "id": "77c1b684-b9b2-48dc-bafb-6e71211e9397",
   "metadata": {},
   "outputs": [],
   "source": [
    "import seaborn as sns"
   ]
  },
  {
   "cell_type": "code",
   "execution_count": 53,
   "id": "f121ee9a-863d-4c0a-a02f-2b415781856f",
   "metadata": {},
   "outputs": [
    {
     "data": {
      "text/plain": [
       "<Axes: xlabel='pay_1', ylabel='count'>"
      ]
     },
     "execution_count": 53,
     "metadata": {},
     "output_type": "execute_result"
    },
    {
     "data": {
      "image/png": "[encoded data removed]",
      "text/plain": [
       "<Figure size 640x480 with 1 Axes>"
      ]
     },
     "metadata": {},
     "output_type": "display_data"
    }
   ],
   "source": [
    "sns.countplot(df_with_ohe,x= 'pay_1')"
   ]
  },
  {
   "cell_type": "code",
   "execution_count": 54,
   "id": "5bd27df8-2476-48c1-94fd-6bbd8aa08503",
   "metadata": {},
   "outputs": [
    {
     "data": {
      "image/png": "[encoded data removed]",
      "text/plain": [
       "<Figure size 1200x600 with 6 Axes>"
      ]
     },
     "metadata": {},
     "output_type": "display_data"
    }
   ],
   "source": [
    "pay_feats = ['pay_1','pay_2', 'pay_3', 'pay_4', 'pay_5', 'pay_6']\n",
    "bin_range =  np.arange(-2,9) - 0.5\n",
    "df_with_ohe[pay_feats].hist(bins=bin_range,layout=(2,3),figsize=(12,6))\n",
    "plt.show()"
   ]
  },
  {
   "cell_type": "code",
   "execution_count": 55,
   "id": "5476211e-ca39-4dff-8f0c-712c403eb662",
   "metadata": {},
   "outputs": [],
   "source": [
    "pay_amt = ['pay_amt1','pay_amt2', 'pay_amt3', 'pay_amt4', 'pay_amt5', 'pay_amt6']"
   ]
  },
  {
   "cell_type": "code",
   "execution_count": 56,
   "id": "74804a9b-e734-4f4a-b78e-aa11601bc1c3",
   "metadata": {},
   "outputs": [
    {
     "data": {
      "text/plain": [
       "Index(['id', 'limit_bal', 'sex', 'education', 'marriage', 'age', 'pay_1',\n",
       "       'pay_2', 'pay_3', 'pay_4', 'pay_5', 'pay_6', 'bill_amt1', 'bill_amt2',\n",
       "       'bill_amt3', 'bill_amt4', 'bill_amt5', 'bill_amt6', 'pay_amt1',\n",
       "       'pay_amt2', 'pay_amt3', 'pay_amt4', 'pay_amt5', 'pay_amt6',\n",
       "       'default payment next month', 'graduate school', 'high school',\n",
       "       'others', 'university'],\n",
       "      dtype='object')"
      ]
     },
     "execution_count": 56,
     "metadata": {},
     "output_type": "execute_result"
    }
   ],
   "source": [
    "df_with_ohe.columns"
   ]
  },
  {
   "cell_type": "code",
   "execution_count": 57,
   "id": "7eed7a77-e15e-4f3b-bfe0-51e8720830b1",
   "metadata": {},
   "outputs": [
    {
     "data": {
      "text/html": [
       "<div>\n",
       "<style scoped>\n",
       "    .dataframe tbody tr th:only-of-type {\n",
       "        vertical-align: middle;\n",
       "    }\n",
       "\n",
       "    .dataframe tbody tr th {\n",
       "        vertical-align: top;\n",
       "    }\n",
       "\n",
       "    .dataframe thead th {\n",
       "        text-align: right;\n",
       "    }\n",
       "</style>\n",
       "<table border=\"1\" class=\"dataframe\">\n",
       "  <thead>\n",
       "    <tr style=\"text-align: right;\">\n",
       "      <th></th>\n",
       "      <th>pay_amt1</th>\n",
       "      <th>pay_amt2</th>\n",
       "      <th>pay_amt3</th>\n",
       "      <th>pay_amt4</th>\n",
       "      <th>pay_amt5</th>\n",
       "      <th>pay_amt6</th>\n",
       "    </tr>\n",
       "  </thead>\n",
       "  <tbody>\n",
       "    <tr>\n",
       "      <th>count</th>\n",
       "      <td>29685.000000</td>\n",
       "      <td>2.968500e+04</td>\n",
       "      <td>29685.000000</td>\n",
       "      <td>29685.000000</td>\n",
       "      <td>29685.000000</td>\n",
       "      <td>29685.000000</td>\n",
       "    </tr>\n",
       "    <tr>\n",
       "      <th>mean</th>\n",
       "      <td>5672.886812</td>\n",
       "      <td>5.917545e+03</td>\n",
       "      <td>5229.295570</td>\n",
       "      <td>4826.770827</td>\n",
       "      <td>4805.203840</td>\n",
       "      <td>5219.023008</td>\n",
       "    </tr>\n",
       "    <tr>\n",
       "      <th>std</th>\n",
       "      <td>16616.452239</td>\n",
       "      <td>2.310628e+04</td>\n",
       "      <td>17650.360969</td>\n",
       "      <td>15607.256127</td>\n",
       "      <td>15311.798994</td>\n",
       "      <td>17798.365183</td>\n",
       "    </tr>\n",
       "    <tr>\n",
       "      <th>min</th>\n",
       "      <td>0.000000</td>\n",
       "      <td>0.000000e+00</td>\n",
       "      <td>0.000000</td>\n",
       "      <td>0.000000</td>\n",
       "      <td>0.000000</td>\n",
       "      <td>0.000000</td>\n",
       "    </tr>\n",
       "    <tr>\n",
       "      <th>25%</th>\n",
       "      <td>1000.000000</td>\n",
       "      <td>8.320000e+02</td>\n",
       "      <td>390.000000</td>\n",
       "      <td>296.000000</td>\n",
       "      <td>250.000000</td>\n",
       "      <td>115.000000</td>\n",
       "    </tr>\n",
       "    <tr>\n",
       "      <th>50%</th>\n",
       "      <td>2100.000000</td>\n",
       "      <td>2.008000e+03</td>\n",
       "      <td>1800.000000</td>\n",
       "      <td>1500.000000</td>\n",
       "      <td>1500.000000</td>\n",
       "      <td>1500.000000</td>\n",
       "    </tr>\n",
       "    <tr>\n",
       "      <th>75%</th>\n",
       "      <td>5007.000000</td>\n",
       "      <td>5.000000e+03</td>\n",
       "      <td>4508.000000</td>\n",
       "      <td>4015.000000</td>\n",
       "      <td>4041.000000</td>\n",
       "      <td>4000.000000</td>\n",
       "    </tr>\n",
       "    <tr>\n",
       "      <th>max</th>\n",
       "      <td>873552.000000</td>\n",
       "      <td>1.684259e+06</td>\n",
       "      <td>896040.000000</td>\n",
       "      <td>621000.000000</td>\n",
       "      <td>426529.000000</td>\n",
       "      <td>528666.000000</td>\n",
       "    </tr>\n",
       "  </tbody>\n",
       "</table>\n",
       "</div>"
      ],
      "text/plain": [
       "            pay_amt1      pay_amt2       pay_amt3       pay_amt4  \\\n",
       "count   29685.000000  2.968500e+04   29685.000000   29685.000000   \n",
       "mean     5672.886812  5.917545e+03    5229.295570    4826.770827   \n",
       "std     16616.452239  2.310628e+04   17650.360969   15607.256127   \n",
       "min         0.000000  0.000000e+00       0.000000       0.000000   \n",
       "25%      1000.000000  8.320000e+02     390.000000     296.000000   \n",
       "50%      2100.000000  2.008000e+03    1800.000000    1500.000000   \n",
       "75%      5007.000000  5.000000e+03    4508.000000    4015.000000   \n",
       "max    873552.000000  1.684259e+06  896040.000000  621000.000000   \n",
       "\n",
       "            pay_amt5       pay_amt6  \n",
       "count   29685.000000   29685.000000  \n",
       "mean     4805.203840    5219.023008  \n",
       "std     15311.798994   17798.365183  \n",
       "min         0.000000       0.000000  \n",
       "25%       250.000000     115.000000  \n",
       "50%      1500.000000    1500.000000  \n",
       "75%      4041.000000    4000.000000  \n",
       "max    426529.000000  528666.000000  "
      ]
     },
     "execution_count": 57,
     "metadata": {},
     "output_type": "execute_result"
    }
   ],
   "source": [
    "df_with_ohe[pay_amt].describe()"
   ]
  },
  {
   "cell_type": "code",
   "execution_count": 58,
   "id": "7eb81279-fd68-4bac-8bbe-699b47d4cb35",
   "metadata": {},
   "outputs": [
    {
     "data": {
      "text/html": [
       "<div>\n",
       "<style scoped>\n",
       "    .dataframe tbody tr th:only-of-type {\n",
       "        vertical-align: middle;\n",
       "    }\n",
       "\n",
       "    .dataframe tbody tr th {\n",
       "        vertical-align: top;\n",
       "    }\n",
       "\n",
       "    .dataframe thead th {\n",
       "        text-align: right;\n",
       "    }\n",
       "</style>\n",
       "<table border=\"1\" class=\"dataframe\">\n",
       "  <thead>\n",
       "    <tr style=\"text-align: right;\">\n",
       "      <th></th>\n",
       "      <th>pay_amt1</th>\n",
       "      <th>pay_amt2</th>\n",
       "      <th>pay_amt3</th>\n",
       "      <th>pay_amt4</th>\n",
       "      <th>pay_amt5</th>\n",
       "      <th>pay_amt6</th>\n",
       "    </tr>\n",
       "  </thead>\n",
       "  <tbody>\n",
       "    <tr>\n",
       "      <th>0</th>\n",
       "      <td>0</td>\n",
       "      <td>689</td>\n",
       "      <td>0</td>\n",
       "      <td>0</td>\n",
       "      <td>0</td>\n",
       "      <td>0</td>\n",
       "    </tr>\n",
       "    <tr>\n",
       "      <th>1</th>\n",
       "      <td>0</td>\n",
       "      <td>1000</td>\n",
       "      <td>1000</td>\n",
       "      <td>1000</td>\n",
       "      <td>0</td>\n",
       "      <td>2000</td>\n",
       "    </tr>\n",
       "    <tr>\n",
       "      <th>2</th>\n",
       "      <td>1518</td>\n",
       "      <td>1500</td>\n",
       "      <td>1000</td>\n",
       "      <td>1000</td>\n",
       "      <td>1000</td>\n",
       "      <td>5000</td>\n",
       "    </tr>\n",
       "    <tr>\n",
       "      <th>3</th>\n",
       "      <td>2000</td>\n",
       "      <td>2019</td>\n",
       "      <td>1200</td>\n",
       "      <td>1100</td>\n",
       "      <td>1069</td>\n",
       "      <td>1000</td>\n",
       "    </tr>\n",
       "    <tr>\n",
       "      <th>4</th>\n",
       "      <td>2000</td>\n",
       "      <td>36681</td>\n",
       "      <td>10000</td>\n",
       "      <td>9000</td>\n",
       "      <td>689</td>\n",
       "      <td>679</td>\n",
       "    </tr>\n",
       "  </tbody>\n",
       "</table>\n",
       "</div>"
      ],
      "text/plain": [
       "   pay_amt1  pay_amt2  pay_amt3  pay_amt4  pay_amt5  pay_amt6\n",
       "0         0       689         0         0         0         0\n",
       "1         0      1000      1000      1000         0      2000\n",
       "2      1518      1500      1000      1000      1000      5000\n",
       "3      2000      2019      1200      1100      1069      1000\n",
       "4      2000     36681     10000      9000       689       679"
      ]
     },
     "execution_count": 58,
     "metadata": {},
     "output_type": "execute_result"
    }
   ],
   "source": [
    "df_with_ohe[pay_amt].head()"
   ]
  },
  {
   "cell_type": "code",
   "execution_count": 59,
   "id": "7e430373-7b83-4a0c-8f7f-a46406f049a2",
   "metadata": {},
   "outputs": [
    {
     "data": {
      "text/html": [
       "<div>\n",
       "<style scoped>\n",
       "    .dataframe tbody tr th:only-of-type {\n",
       "        vertical-align: middle;\n",
       "    }\n",
       "\n",
       "    .dataframe tbody tr th {\n",
       "        vertical-align: top;\n",
       "    }\n",
       "\n",
       "    .dataframe thead th {\n",
       "        text-align: right;\n",
       "    }\n",
       "</style>\n",
       "<table border=\"1\" class=\"dataframe\">\n",
       "  <thead>\n",
       "    <tr style=\"text-align: right;\">\n",
       "      <th></th>\n",
       "      <th>pay_amt1</th>\n",
       "      <th>pay_amt2</th>\n",
       "      <th>pay_amt3</th>\n",
       "      <th>pay_amt4</th>\n",
       "      <th>pay_amt5</th>\n",
       "      <th>pay_amt6</th>\n",
       "    </tr>\n",
       "  </thead>\n",
       "  <tbody>\n",
       "    <tr>\n",
       "      <th>29995</th>\n",
       "      <td>8500</td>\n",
       "      <td>20000</td>\n",
       "      <td>5003</td>\n",
       "      <td>3047</td>\n",
       "      <td>5000</td>\n",
       "      <td>1000</td>\n",
       "    </tr>\n",
       "    <tr>\n",
       "      <th>29996</th>\n",
       "      <td>1837</td>\n",
       "      <td>3526</td>\n",
       "      <td>8998</td>\n",
       "      <td>129</td>\n",
       "      <td>0</td>\n",
       "      <td>0</td>\n",
       "    </tr>\n",
       "    <tr>\n",
       "      <th>29997</th>\n",
       "      <td>0</td>\n",
       "      <td>0</td>\n",
       "      <td>22000</td>\n",
       "      <td>4200</td>\n",
       "      <td>2000</td>\n",
       "      <td>3100</td>\n",
       "    </tr>\n",
       "    <tr>\n",
       "      <th>29998</th>\n",
       "      <td>85900</td>\n",
       "      <td>3409</td>\n",
       "      <td>1178</td>\n",
       "      <td>1926</td>\n",
       "      <td>52964</td>\n",
       "      <td>1804</td>\n",
       "    </tr>\n",
       "    <tr>\n",
       "      <th>29999</th>\n",
       "      <td>2078</td>\n",
       "      <td>1800</td>\n",
       "      <td>1430</td>\n",
       "      <td>1000</td>\n",
       "      <td>1000</td>\n",
       "      <td>1000</td>\n",
       "    </tr>\n",
       "  </tbody>\n",
       "</table>\n",
       "</div>"
      ],
      "text/plain": [
       "       pay_amt1  pay_amt2  pay_amt3  pay_amt4  pay_amt5  pay_amt6\n",
       "29995      8500     20000      5003      3047      5000      1000\n",
       "29996      1837      3526      8998       129         0         0\n",
       "29997         0         0     22000      4200      2000      3100\n",
       "29998     85900      3409      1178      1926     52964      1804\n",
       "29999      2078      1800      1430      1000      1000      1000"
      ]
     },
     "execution_count": 59,
     "metadata": {},
     "output_type": "execute_result"
    }
   ],
   "source": [
    "df_with_ohe[pay_amt].tail()"
   ]
  },
  {
   "cell_type": "code",
   "execution_count": 60,
   "id": "92a7ee36-e292-4e6c-9c54-c6f6cf3fe819",
   "metadata": {},
   "outputs": [],
   "source": [
    "mpl.rcParams['font.size']=10"
   ]
  },
  {
   "cell_type": "code",
   "execution_count": 61,
   "id": "f68ead3e-8092-47f5-996f-bec4a204134c",
   "metadata": {},
   "outputs": [],
   "source": [
    "zero_vals = (df_with_ohe[pay_amt] == 0)"
   ]
  },
  {
   "cell_type": "code",
   "execution_count": 62,
   "id": "85f967f5-8ad3-4cbe-a2df-29b9bae1149f",
   "metadata": {},
   "outputs": [
    {
     "data": {
      "text/plain": [
       "pay_amt1    5189\n",
       "pay_amt2    5348\n",
       "pay_amt3    5908\n",
       "pay_amt4    6345\n",
       "pay_amt5    6640\n",
       "pay_amt6    7101\n",
       "dtype: int64"
      ]
     },
     "execution_count": 62,
     "metadata": {},
     "output_type": "execute_result"
    }
   ],
   "source": [
    "zero_vals.sum()"
   ]
  },
  {
   "cell_type": "code",
   "execution_count": 63,
   "id": "8e66d17a-b326-4895-942b-6408835cfaf1",
   "metadata": {},
   "outputs": [
    {
     "data": {
      "image/png": "[encoded data removed]",
      "text/plain": [
       "<Figure size 1200x600 with 6 Axes>"
      ]
     },
     "metadata": {},
     "output_type": "display_data"
    }
   ],
   "source": [
    "np.log10(df_with_ohe[pay_amt][~zero_vals]).hist(layout=(2,3),figsize=(12,6))\n",
    "plt.show()"
   ]
  },
  {
   "cell_type": "code",
   "execution_count": null,
   "id": "a21fa37c-81d7-42c3-ab8a-cbd400ed5dd0",
   "metadata": {},
   "outputs": [],
   "source": []
  }
 ],
 "metadata": {
  "kernelspec": {
   "display_name": "VPython",
   "language": "python",
   "name": "vpython"
  },
  "language_info": {
   "codemirror_mode": {
    "name": "ipython",
    "version": 3
   },
   "file_extension": ".py",
   "mimetype": "text/x-python",
   "name": "python",
   "nbconvert_exporter": "python",
   "pygments_lexer": "ipython3",
   "version": "3.10.6"
  }
 },
 "nbformat": 4,
 "nbformat_minor": 5
}
