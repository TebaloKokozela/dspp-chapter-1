{
 "cells": [
  {
   "cell_type": "markdown",
   "id": "b3bc466f-0c08-4fc0-a7a7-8c88aaa1ea33",
   "metadata": {},
   "source": [
    "# Chapter 1 - Data Science Projects with Python\n",
    "\n",
    "---\n",
    "This is the first chapter of the book data science project and it seems to be following the traditional method of using a notebook for doing everything which is frustrating. \n"
   ]
  },
  {
   "cell_type": "code",
   "execution_count": 21,
   "id": "f2345203-56bf-4df3-9455-6344a52c4e0b",
   "metadata": {},
   "outputs": [],
   "source": [
    "# basic imports\n",
    "import os \n",
    "import sys\n",
    "import pandas as pd"
   ]
  },
  {
   "cell_type": "markdown",
   "id": "45352c36-2ed8-40ad-9fac-f6e221fe4cf6",
   "metadata": {},
   "source": [
    "### Data Explorations steps to follow:\n",
    "***\n",
    "> 1. What is the shape of the data\n",
    "  >> - number of rows and columns\n",
    "> 2. Are there any missing values\n",
    "> 3. Are there any duplicates per row\n",
    "> 4. What are the column type - is this what is expected\n",
    "---"
   ]
  },
  {
   "cell_type": "code",
   "execution_count": 23,
   "id": "a817222e-5718-4359-83a9-ed37ccbdf733",
   "metadata": {},
   "outputs": [],
   "source": [
    "df = pd.read_excel('../data/raw/default_of_credit_card_clients__courseware_version_1_21_19.xls')"
   ]
  },
  {
   "cell_type": "markdown",
   "id": "a2d82e35-523e-49ac-b1aa-0d14c37d649a",
   "metadata": {},
   "source": [
    "1. `Rows` and `columns` view"
   ]
  },
  {
   "cell_type": "code",
   "execution_count": 32,
   "id": "6c51e44b-1ccb-44c6-8df5-6951016db0e4",
   "metadata": {},
   "outputs": [
    {
     "name": "stdout",
     "output_type": "stream",
     "text": [
      "Rows = 30,000 \n",
      "cols = 25, \n",
      "fullshape = (30000, 25) \n"
     ]
    }
   ],
   "source": [
    "print(f'Rows = {df.shape[0]:,.0f} \\ncols = {df.shape[1]}, \\nfullshape = {df.shape} ')"
   ]
  },
  {
   "cell_type": "markdown",
   "id": "c10b831a-bc1b-4f58-8a6e-69603973eacf",
   "metadata": {},
   "source": [
    "2. **Missing** data "
   ]
  },
  {
   "cell_type": "code",
   "execution_count": 39,
   "id": "e1cac846-f7ee-4c9a-a6fc-228bfdb55da7",
   "metadata": {},
   "outputs": [
    {
     "data": {
      "text/plain": [
       "ID                            False\n",
       "LIMIT_BAL                     False\n",
       "SEX                           False\n",
       "EDUCATION                     False\n",
       "MARRIAGE                      False\n",
       "AGE                           False\n",
       "PAY_1                         False\n",
       "PAY_2                         False\n",
       "PAY_3                         False\n",
       "PAY_4                         False\n",
       "PAY_5                         False\n",
       "PAY_6                         False\n",
       "BILL_AMT1                     False\n",
       "BILL_AMT2                     False\n",
       "BILL_AMT3                     False\n",
       "BILL_AMT4                     False\n",
       "BILL_AMT5                     False\n",
       "BILL_AMT6                     False\n",
       "PAY_AMT1                      False\n",
       "PAY_AMT2                      False\n",
       "PAY_AMT3                      False\n",
       "PAY_AMT4                      False\n",
       "PAY_AMT5                      False\n",
       "PAY_AMT6                      False\n",
       "default payment next month    False\n",
       "dtype: bool"
      ]
     },
     "execution_count": 39,
     "metadata": {},
     "output_type": "execute_result"
    }
   ],
   "source": [
    "df.isnull().any()"
   ]
  },
  {
   "cell_type": "markdown",
   "id": "692da031-db22-4769-9bb3-fb7d28271268",
   "metadata": {},
   "source": [
    "3. checking **_duplicates_**"
   ]
  },
  {
   "cell_type": "code",
   "execution_count": 42,
   "id": "252d733f-0e8d-40cf-881c-7a0ee3c49621",
   "metadata": {},
   "outputs": [
    {
     "data": {
      "text/plain": [
       "0"
      ]
     },
     "execution_count": 42,
     "metadata": {},
     "output_type": "execute_result"
    }
   ],
   "source": [
    "df.duplicated().sum()"
   ]
  },
  {
   "cell_type": "markdown",
   "id": "014d1c05-8d14-4cc5-bb1c-5b88af2985f3",
   "metadata": {},
   "source": [
    "> 4. Checking Datatype"
   ]
  },
  {
   "cell_type": "code",
   "execution_count": null,
   "id": "7c7c82a0-6566-4c25-ae97-5947077c86d2",
   "metadata": {},
   "outputs": [],
   "source": []
  }
 ],
 "metadata": {
  "kernelspec": {
   "display_name": "VPython",
   "language": "python",
   "name": "vpython"
  },
  "language_info": {
   "codemirror_mode": {
    "name": "ipython",
    "version": 3
   },
   "file_extension": ".py",
   "mimetype": "text/x-python",
   "name": "python",
   "nbconvert_exporter": "python",
   "pygments_lexer": "ipython3",
   "version": "3.10.6"
  }
 },
 "nbformat": 4,
 "nbformat_minor": 5
}
